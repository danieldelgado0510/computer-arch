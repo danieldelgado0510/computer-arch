{
 "cells": [
  {
   "cell_type": "code",
   "execution_count": 6,
   "id": "422dbb80",
   "metadata": {},
   "outputs": [
    {
     "name": "stdout",
     "output_type": "stream",
     "text": [
      "536870787\n",
      "125\n",
      "-1\n"
     ]
    }
   ],
   "source": [
    "def shift_l(value,shift):\n",
    "    if value >= 0:\n",
    "        return value>>shift\n",
    "    else: \n",
    "        return (value+0x100000000)>>shift\n",
    "        \n",
    "print(shift_l(-1000, 3))\n",
    "print(shift_l(1000, 3))\n",
    "\n",
    "#arithmetic\n",
    "print(str(-2 >> 3))\n"
   ]
  },
  {
   "cell_type": "code",
   "execution_count": null,
   "id": "e9b18d77",
   "metadata": {},
   "outputs": [],
   "source": []
  }
 ],
 "metadata": {
  "kernelspec": {
   "display_name": "Python 3 (ipykernel)",
   "language": "python",
   "name": "python3"
  },
  "language_info": {
   "codemirror_mode": {
    "name": "ipython",
    "version": 3
   },
   "file_extension": ".py",
   "mimetype": "text/x-python",
   "name": "python",
   "nbconvert_exporter": "python",
   "pygments_lexer": "ipython3",
   "version": "3.8.10"
  }
 },
 "nbformat": 4,
 "nbformat_minor": 5
}
