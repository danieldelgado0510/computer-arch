{
 "cells": [
  {
   "cell_type": "code",
   "execution_count": 529,
   "id": "a1bb9db0",
   "metadata": {},
   "outputs": [],
   "source": [
    "#load a specified mips text file\n",
    "#generate the assembly code equivalent to the input file (disassembler)\n",
    "\n",
    "#Generate instruction by instruction simulation of the MIPS code (simulator)\n",
    "#produce/print the contents of registers and data memories after each execution of each instruction"
   ]
  },
  {
   "cell_type": "code",
   "execution_count": 530,
   "id": "b851b7fc",
   "metadata": {},
   "outputs": [],
   "source": [
    "#category-1\n",
    "cat_1 = '000'\n",
    "J='000'\n",
    "BEQ='001'\n",
    "BNE='010'\n",
    "BGTZ='011'\n",
    "SW='100'\n",
    "LW='101'\n",
    "BREAK='110'\n",
    "cat1 = [cat_1,J,BEQ,BNE,BGTZ,SW,LW,BREAK]"
   ]
  },
  {
   "cell_type": "code",
   "execution_count": 531,
   "id": "5e1826c6",
   "metadata": {},
   "outputs": [],
   "source": [
    "#category-2\n",
    "cat_2 = '001'\n",
    "ADD='000'\n",
    "SUB='001'\n",
    "AND='010'\n",
    "OR='011'\n",
    "SRL='100'\n",
    "SRA='101'\n",
    "MUL='110'\n",
    "cat2 = [cat_2,ADD,SUB,AND,OR,SRL,SRA,MUL]"
   ]
  },
  {
   "cell_type": "code",
   "execution_count": 532,
   "id": "198f5029",
   "metadata": {},
   "outputs": [],
   "source": [
    "#category-3\n",
    "cat_3 = '010'\n",
    "ADDI='000'\n",
    "ANDI='001'\n",
    "ORI='010'\n",
    "cat3 = [cat_3,ADDI,ANDI,ORI]"
   ]
  },
  {
   "cell_type": "code",
   "execution_count": 533,
   "id": "54c1859a",
   "metadata": {},
   "outputs": [],
   "source": [
    "#Global variables\n",
    "\n",
    "input_instr = []\n",
    "\n",
    "cat = [cat1,cat2,cat3]\n"
   ]
  },
  {
   "cell_type": "code",
   "execution_count": 534,
   "id": "02b4b59f",
   "metadata": {},
   "outputs": [],
   "source": [
    "#read from file and print contents\n",
    "f_dis = open(\"sample.txt\", \"r\")\n",
    "w_dis = open(\"disassembly.txt\", \"w\")\n",
    "\n",
    "for x in f_dis:\n",
    "    input_instr.append(x)\n",
    "    "
   ]
  },
  {
   "cell_type": "code",
   "execution_count": 535,
   "id": "bfec948a",
   "metadata": {},
   "outputs": [],
   "source": [
    "#category 1 function\n",
    "def cat_1_func(sample,break_exc):\n",
    "    \n",
    "    input_cat = sample[0:3]\n",
    "    opcode = sample[3:6]\n",
    "    \n",
    "    instr_index = sample[8:]\n",
    "    instr_index = instr_index.strip() + '00'\n",
    "    \n",
    "    instr_index_int = int(instr_index, 2)\n",
    "    output = \"\"\n",
    "    \n",
    "    if(opcode == J):\n",
    "        output = \"J #\" + str(instr_index_int)\n",
    "        \n",
    "    if(opcode == BEQ):\n",
    "        output = \"BEQ \"\n",
    "        \n",
    "    if(opcode == BNE):\n",
    "        output = \"BNE \"\n",
    "        \n",
    "    if(opcode == BGTZ):\n",
    "        output = \"BGTZ \"\n",
    "        \n",
    "    if(opcode == SW):\n",
    "        output = \"SW \"\n",
    "        \n",
    "    if(opcode == LW):\n",
    "        output = \"LW \"\n",
    "        \n",
    "    if(opcode == BREAK):\n",
    "        output = \"BREAK \"\n",
    "        break_exc = True\n",
    "        \n",
    "    w_dis.write(output + '\\n')\n",
    "    return break_exc"
   ]
  },
  {
   "cell_type": "code",
   "execution_count": 536,
   "id": "85797d94",
   "metadata": {},
   "outputs": [],
   "source": [
    "#category 2 function\n",
    "def cat_2_func(sample):\n",
    "    opcode = sample[3:6]\n",
    "    output = \"\"\n",
    "\n",
    "    if(opcode == ADD):\n",
    "        output = \"ADD \"\n",
    "    if(opcode == SUB):\n",
    "        output = \"SUB \"\n",
    "    if(opcode == AND):\n",
    "        output = \"AND \"\n",
    "    if(opcode == OR):\n",
    "        output = \"OR \"\n",
    "    if(opcode == SRL):\n",
    "        output = \"SRL \"\n",
    "    if(opcode == SRA):\n",
    "        output = \"SRA \"\n",
    "    if(opcode == MUL):\n",
    "        output = \"MUL \"\n",
    "        \n",
    "    w_dis.write(output + '\\n')"
   ]
  },
  {
   "cell_type": "code",
   "execution_count": 537,
   "id": "d28bdcc5",
   "metadata": {},
   "outputs": [],
   "source": [
    "#category 3 function\n",
    "def cat_3_func(sample):\n",
    "    opcode = sample[3:6]\n",
    "    output = \"\"\n",
    "    \n",
    "    if(opcode == ADDI):\n",
    "        output = \"ADDI \"\n",
    "    if(opcode == ANDI):\n",
    "        output = \"ANDI \"\n",
    "    if(opcode == ORI):\n",
    "        output = \"ORI \"\n",
    "        \n",
    "    w_dis.write(output + '\\n') "
   ]
  },
  {
   "cell_type": "code",
   "execution_count": 538,
   "id": "7da61542",
   "metadata": {},
   "outputs": [],
   "source": [
    "def convert(val):\n",
    "    tmp = val.strip()\n",
    "    tmp = ''.join('1' if x == '0' else '0' for x in tmp)\n",
    "    tmp = int(tmp,2) + 1\n",
    "    w_dis.write('-' + str(tmp) + '\\n')\n",
    "    "
   ]
  },
  {
   "cell_type": "code",
   "execution_count": 539,
   "id": "9dabbec6",
   "metadata": {},
   "outputs": [],
   "source": [
    "def twos_complement(sample):\n",
    "    if(sample[0]=='1'): #negative bit\n",
    "        convert(sample)\n",
    "    elif(sample[0]=='0'): #positive bit\n",
    "        w_dis.write(str(int(sample,2)) + '\\n')\n",
    "        "
   ]
  },
  {
   "cell_type": "code",
   "execution_count": 540,
   "id": "ff83f856",
   "metadata": {},
   "outputs": [],
   "source": [
    "break_exc = False\n",
    "w_dis = open(\"disassembly.txt\", \"a\")\n",
    "address = 260\n",
    "\n",
    "for instruction in input_instr:\n",
    "    instr = instruction\n",
    "    w_dis.write(instruction.strip() + '\\t' + str(address).strip() + ' ')\n",
    "\n",
    "    #decode input\n",
    "    input_cat = instr[:3]\n",
    "    \n",
    "    if(break_exc):\n",
    "        twos_complement(instruction)\n",
    "        #w_dis.write(str(int(instruction,2)) + '\\n')\n",
    "        \n",
    "    if(input_cat == cat_1 and not break_exc):\n",
    "        break_exc = cat_1_func(instruction,break_exc)\n",
    "\n",
    "    if(input_cat == cat_2 and not break_exc):\n",
    "        cat_2_func(instruction)\n",
    "\n",
    "    if(input_cat == cat_3 and not break_exc):\n",
    "        cat_3_func(instruction)\n",
    "\n",
    "    \n",
    "\n",
    "    address = address + 4\n",
    "\n",
    "w_dis.close()"
   ]
  },
  {
   "cell_type": "code",
   "execution_count": 541,
   "id": "2f3c5cb4",
   "metadata": {},
   "outputs": [
    {
     "name": "stdout",
     "output_type": "stream",
     "text": [
      "00100000001000000000000000000000\t260 ADD \n",
      "00100000110000000000000000000000\t264 ADD \n",
      "01000000010000000000000000000011\t268 ADDI \n",
      "00000100001000100000000000001001\t272 BEQ \n",
      "00010100110000110000000100111100\t276 LW \n",
      "00010100110001000000000101001100\t280 LW \n",
      "00111000101000110010000000000000\t284 MUL \n",
      "00001100101000000000000000000001\t288 BGTZ \n",
      "01000000101001010000000000001100\t292 ADDI \n",
      "00010000110001010000000101011100\t296 SW \n",
      "01000000001000010000000000000001\t300 ADDI \n",
      "01000000110001100000000000000100\t304 ADDI \n",
      "00000000000000000000000001000100\t308 J #272\n",
      "00011000000000000000000000000000\t312 BREAK \n",
      "11111111111111111111111111111111\t316 -1\n",
      "11111111111111111111111111111110\t320 -2\n",
      "11111111111111111111111111111101\t324 -3\n",
      "00000000000000000000000000000001\t328 1\n",
      "00000000000000000000000000000010\t332 2\n",
      "00000000000000000000000000000100\t336 4\n",
      "11111111111111111111111111111100\t340 -4\n",
      "00000000000000000000000000001010\t344 10\n",
      "00000000000000000000000000000111\t348 7\n",
      "00000000000000000000000000001001\t352 9\n",
      "00000000000000000000000000000001\t356 1\n",
      "00000000000000000000000000000000\t360 0\n",
      "11111111111111111111111111111111\t364 -1\n",
      "00000000000000000000000000000001\t368 1\n",
      "11111111111111111111111111111111\t372 -1\n",
      "00000000000000000000000000000000\t376 0\n",
      "\n"
     ]
    }
   ],
   "source": [
    "#test file contents\n",
    "w_dis = open(\"disassembly.txt\", \"r\")\n",
    "print(w_dis.read())"
   ]
  },
  {
   "cell_type": "code",
   "execution_count": null,
   "id": "83e10fed",
   "metadata": {},
   "outputs": [],
   "source": []
  }
 ],
 "metadata": {
  "kernelspec": {
   "display_name": "Python 3 (ipykernel)",
   "language": "python",
   "name": "python3"
  },
  "language_info": {
   "codemirror_mode": {
    "name": "ipython",
    "version": 3
   },
   "file_extension": ".py",
   "mimetype": "text/x-python",
   "name": "python",
   "nbconvert_exporter": "python",
   "pygments_lexer": "ipython3",
   "version": "3.8.10"
  }
 },
 "nbformat": 4,
 "nbformat_minor": 5
}
