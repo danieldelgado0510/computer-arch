{
 "cells": [
  {
   "cell_type": "code",
   "execution_count": 1,
   "id": "a1bb9db0",
   "metadata": {},
   "outputs": [],
   "source": [
    "#load a specified mips text file\n",
    "#generate the assembly code equivalent to the input file (disassembler)\n",
    "\n",
    "#Generate instruction by instruction simulation of the MIPS code (simulator)\n",
    "#produce/print the contents of registers and data memories after each execution of each instruction"
   ]
  },
  {
   "cell_type": "code",
   "execution_count": 135,
   "id": "b851b7fc",
   "metadata": {},
   "outputs": [],
   "source": [
    "#category-1\n",
    "cat_1 = '000'\n",
    "J='000'\n",
    "BEQ='001'\n",
    "BNE='010'\n",
    "BGTZ='011'\n",
    "SW='100'\n",
    "LW='101'\n",
    "BREAK='110'\n",
    "cat1 = [cat_1,J,BEQ,BNE,BGTZ,SW,LW,BREAK]"
   ]
  },
  {
   "cell_type": "code",
   "execution_count": 136,
   "id": "5e1826c6",
   "metadata": {},
   "outputs": [],
   "source": [
    "#category-2\n",
    "cat_2 = '001'\n",
    "ADD='000'\n",
    "SUB='001'\n",
    "AND='010'\n",
    "OR='011'\n",
    "SRL='100'\n",
    "SRA='101'\n",
    "MUL='110'\n",
    "cat2 = [cat_2,ADD,SUB,AND,OR,SRL,SRA,MUL]"
   ]
  },
  {
   "cell_type": "code",
   "execution_count": 137,
   "id": "198f5029",
   "metadata": {},
   "outputs": [],
   "source": [
    "#category-3\n",
    "cat_3 = '010'\n",
    "ADDI='000'\n",
    "ANDI='001'\n",
    "ORI='010'\n",
    "cat3 = [cat_3,ADDI,ANDI,ORI]"
   ]
  },
  {
   "cell_type": "code",
   "execution_count": 138,
   "id": "54c1859a",
   "metadata": {},
   "outputs": [],
   "source": [
    "#Global variables\n",
    "\n",
    "input_instr = []\n",
    "\n",
    "cat = [cat1,cat2,cat3]\n"
   ]
  },
  {
   "cell_type": "code",
   "execution_count": 139,
   "id": "02b4b59f",
   "metadata": {},
   "outputs": [],
   "source": [
    "#read from file and print contents\n",
    "f = open(\"sample.txt\", \"r\")\n",
    "\n",
    "for x in f:\n",
    "    input_instr.append(x)\n",
    "    #print(x)"
   ]
  },
  {
   "cell_type": "code",
   "execution_count": 206,
   "id": "bfec948a",
   "metadata": {},
   "outputs": [],
   "source": [
    "#category 1 function\n",
    "def cat_1_func(sample,break_exc):\n",
    "    #print(\"cat_1!\",end ='')\n",
    "    input_cat = sample[0:3]\n",
    "    opcode = sample[3:6]\n",
    "    #print(\"new opcode \", opcode)\n",
    "    instr_index = sample[8:]\n",
    "    instr_index = instr_index.strip() + '00'\n",
    "    #instr_index = instr_index + \"00\"\n",
    "    instr_index_int = int(instr_index, 2)\n",
    "    #print(instr_index_int)\n",
    "    \n",
    "    if(opcode == J):\n",
    "        output = \"J #\" + str(instr_index_int)\n",
    "        print(output)\n",
    "    if(opcode == BEQ):\n",
    "        #print(\"BEQ\")\n",
    "        #print(sample[8:13])\n",
    "        print()\n",
    "    if(opcode == BNE):\n",
    "        print()\n",
    "    if(opcode == BGTZ):\n",
    "        print()\n",
    "    if(opcode == SW):\n",
    "        print()\n",
    "    if(opcode == LW):\n",
    "        print()\n",
    "    if(opcode == BREAK):\n",
    "        #print(\"broken!\")\n",
    "        break_exc = True\n",
    "        #print()\n",
    "    return break_exc"
   ]
  },
  {
   "cell_type": "code",
   "execution_count": 207,
   "id": "85797d94",
   "metadata": {},
   "outputs": [],
   "source": [
    "#category 2 function\n",
    "def cat_2_func(sample):\n",
    "    #print(\"cat_2!\",end ='')\n",
    "    if(opcode == ADD):\n",
    "        print()\n",
    "    if(opcode == SUB):\n",
    "        print()\n",
    "    if(opcode == AND):\n",
    "        print()\n",
    "    if(opcode == OR):\n",
    "        print()\n",
    "    if(opcode == SRL):\n",
    "        print()\n",
    "    if(opcode == SRA):\n",
    "        print()\n",
    "    if(opcode == MUL):\n",
    "        print()"
   ]
  },
  {
   "cell_type": "code",
   "execution_count": 208,
   "id": "d28bdcc5",
   "metadata": {},
   "outputs": [],
   "source": [
    "#category 3 function\n",
    "def cat_3_func(sample):\n",
    "    #print(\"cat_3!\",end ='')\n",
    "    if(opcode == ADDI):\n",
    "        print()\n",
    "    if(opcode == ANDI):\n",
    "        print()\n",
    "    if(opcode == ORI):\n",
    "        print()\n",
    "        "
   ]
  },
  {
   "cell_type": "code",
   "execution_count": null,
   "id": "9dabbec6",
   "metadata": {},
   "outputs": [],
   "source": [
    "def twos_complement(sample):"
   ]
  },
  {
   "cell_type": "code",
   "execution_count": 209,
   "id": "ff83f856",
   "metadata": {},
   "outputs": [
    {
     "name": "stdout",
     "output_type": "stream",
     "text": [
      "00100000001000000000000000000000\t260 \n",
      "00100000110000000000000000000000\t264 \n",
      "01000000010000000000000000000011\t268 \n",
      "00000100001000100000000000001001\t272 \n",
      "00010100110000110000000100111100\t276 \n",
      "00010100110001000000000101001100\t280 \n",
      "00111000101000110010000000000000\t284 \n",
      "00001100101000000000000000000001\t288 \n",
      "01000000101001010000000000001100\t292 \n",
      "00010000110001010000000101011100\t296 \n",
      "01000000001000010000000000000001\t300 \n",
      "01000000110001100000000000000100\t304 \n",
      "00000000000000000000000001000100\t308 J #272\n",
      "00011000000000000000000000000000\t312 402653184\n",
      "11111111111111111111111111111111\t316 4294967295\n",
      "11111111111111111111111111111110\t320 4294967294\n",
      "11111111111111111111111111111101\t324 4294967293\n",
      "00000000000000000000000000000001\t328 1\n",
      "00000000000000000000000000000010\t332 2\n",
      "00000000000000000000000000000100\t336 4\n",
      "11111111111111111111111111111100\t340 4294967292\n",
      "00000000000000000000000000001010\t344 10\n",
      "00000000000000000000000000000111\t348 7\n",
      "00000000000000000000000000001001\t352 9\n",
      "00000000000000000000000000000001\t356 1\n",
      "00000000000000000000000000000000\t360 0\n",
      "11111111111111111111111111111111\t364 4294967295\n",
      "00000000000000000000000000000001\t368 1\n",
      "11111111111111111111111111111111\t372 4294967295\n",
      "00000000000000000000000000000000\t376 0\n"
     ]
    }
   ],
   "source": [
    "if __name__ == '__main__':\n",
    "    break_exc = False\n",
    "    address = 260\n",
    "    for instruction in input_instr:\n",
    "        instr = instruction\n",
    "        print(instruction.strip() + '\\t' + str(address).strip() + \" \",end ='')\n",
    "        \n",
    "        #decode input\n",
    "        input_cat = instr[:3]\n",
    "        \n",
    "        if(input_cat == cat_1 and not break_exc):\n",
    "            break_exc = cat_1_func(instruction,break_exc)\n",
    "\n",
    "        if(input_cat == cat_2 and not break_exc):\n",
    "            cat_2_func(instruction)\n",
    "\n",
    "        if(input_cat == cat_3 and not break_exc):\n",
    "            cat_3_func(instruction)\n",
    "        \n",
    "        elif(break_exc):\n",
    "            print(str(int(instruction,2)))\n",
    "          \n",
    "        address = address + 4\n"
   ]
  },
  {
   "cell_type": "code",
   "execution_count": null,
   "id": "d202ecad",
   "metadata": {},
   "outputs": [],
   "source": []
  },
  {
   "cell_type": "code",
   "execution_count": null,
   "id": "efd0bba0",
   "metadata": {},
   "outputs": [],
   "source": []
  }
 ],
 "metadata": {
  "kernelspec": {
   "display_name": "Python 3 (ipykernel)",
   "language": "python",
   "name": "python3"
  },
  "language_info": {
   "codemirror_mode": {
    "name": "ipython",
    "version": 3
   },
   "file_extension": ".py",
   "mimetype": "text/x-python",
   "name": "python",
   "nbconvert_exporter": "python",
   "pygments_lexer": "ipython3",
   "version": "3.8.10"
  }
 },
 "nbformat": 4,
 "nbformat_minor": 5
}
