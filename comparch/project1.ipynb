{
 "cells": [
  {
   "cell_type": "code",
   "execution_count": 14,
   "id": "a1bb9db0",
   "metadata": {},
   "outputs": [],
   "source": [
    "#load a specified mips text file\n",
    "#generate the assembly code equivalent to the input file (disassembler)\n",
    "\n",
    "#Generate instruction by instruction simulation of the MIPS code (simulator)\n",
    "#produce/print the contents of registers and data memories after each execution of each instruction"
   ]
  },
  {
   "cell_type": "code",
   "execution_count": 15,
   "id": "b851b7fc",
   "metadata": {},
   "outputs": [],
   "source": [
    "#category-1\n",
    "cat_1 = '000'\n",
    "J='000'\n",
    "BEQ='001'\n",
    "BNE='010'\n",
    "BGTZ='011'\n",
    "SW='100'\n",
    "LW='101'\n",
    "BREAK='110'\n",
    "cat1 = [cat_1,J,BEQ,BNE,BGTZ,SW,LW,BREAK]"
   ]
  },
  {
   "cell_type": "code",
   "execution_count": 16,
   "id": "5e1826c6",
   "metadata": {},
   "outputs": [],
   "source": [
    "#category-2\n",
    "cat_2 = '001'\n",
    "ADD='000'\n",
    "SUB='001'\n",
    "AND='010'\n",
    "OR='011'\n",
    "SRL='100'\n",
    "SRA='101'\n",
    "MUL='110'\n",
    "cat2 = [cat_2,ADD,SUB,AND,OR,SRL,SRA,MUL]"
   ]
  },
  {
   "cell_type": "code",
   "execution_count": 17,
   "id": "198f5029",
   "metadata": {},
   "outputs": [],
   "source": [
    "#category-3\n",
    "cat_3 = '010'\n",
    "ADDI='000'\n",
    "ANDI='001'\n",
    "ORI='010'\n",
    "cat3 = [cat_3,ADDI,ANDI,ORI]"
   ]
  },
  {
   "cell_type": "code",
   "execution_count": 18,
   "id": "54c1859a",
   "metadata": {},
   "outputs": [],
   "source": [
    "#Global variables\n",
    "\n",
    "input_instr = []\n",
    "\n",
    "cat = [cat1,cat2,cat3]"
   ]
  },
  {
   "cell_type": "code",
   "execution_count": 19,
   "id": "02b4b59f",
   "metadata": {},
   "outputs": [
    {
     "name": "stdout",
     "output_type": "stream",
     "text": [
      "00100000001000000000000000000000\n",
      "\n",
      "00100000110000000000000000000000\n",
      "\n",
      "01000000010000000000000000000011\n",
      "\n",
      "00000100001000100000000000001001\n",
      "\n",
      "00010100110000110000000100111100\n",
      "\n",
      "00010100110001000000000101001100\n",
      "\n",
      "00111000101000110010000000000000\n",
      "\n",
      "00001100101000000000000000000001\n",
      "\n",
      "01000000101001010000000000001100\n",
      "\n",
      "00010000110001010000000101011100\n",
      "\n",
      "01000000001000010000000000000001\n",
      "\n",
      "01000000110001100000000000000100\n",
      "\n",
      "00000000000000000000000001000100\n",
      "\n",
      "00011000000000000000000000000000\n",
      "\n",
      "11111111111111111111111111111111\n",
      "\n",
      "11111111111111111111111111111110\n",
      "\n",
      "11111111111111111111111111111101\n",
      "\n",
      "00000000000000000000000000000001\n",
      "\n",
      "00000000000000000000000000000010\n",
      "\n",
      "00000000000000000000000000000100\n",
      "\n",
      "11111111111111111111111111111100\n",
      "\n",
      "00000000000000000000000000001010\n",
      "\n",
      "00000000000000000000000000000111\n",
      "\n",
      "00000000000000000000000000001001\n",
      "\n",
      "00000000000000000000000000000001\n",
      "\n",
      "00000000000000000000000000000000\n",
      "\n",
      "11111111111111111111111111111111\n",
      "\n",
      "00000000000000000000000000000001\n",
      "\n",
      "11111111111111111111111111111111\n",
      "\n",
      "00000000000000000000000000000000\n",
      "\n"
     ]
    }
   ],
   "source": [
    "#read from file and print contents\n",
    "f = open(\"sample.txt\", \"r\")\n",
    "\n",
    "for x in f:\n",
    "    input_instr.append(x)\n",
    "    print(x)"
   ]
  },
  {
   "cell_type": "code",
   "execution_count": 35,
   "id": "ff83f856",
   "metadata": {},
   "outputs": [
    {
     "name": "stdout",
     "output_type": "stream",
     "text": [
      "00100000110000000000000000000000\n",
      "\n",
      "1\n"
     ]
    }
   ],
   "source": [
    "#decode input\n",
    "sample = input_instr[1]\n",
    "print(sample)\n",
    "input_cat = sample[0:3]\n",
    "\n",
    "cat_index = 0\n",
    "\n",
    "for x in range(0,2):\n",
    "    if(input_cat == cat[x][0]):\n",
    "        cat_index = x\n",
    "        print(cat_index)\n",
    "\n"
   ]
  },
  {
   "cell_type": "code",
   "execution_count": null,
   "id": "bfec948a",
   "metadata": {},
   "outputs": [],
   "source": []
  }
 ],
 "metadata": {
  "kernelspec": {
   "display_name": "Python 3 (ipykernel)",
   "language": "python",
   "name": "python3"
  },
  "language_info": {
   "codemirror_mode": {
    "name": "ipython",
    "version": 3
   },
   "file_extension": ".py",
   "mimetype": "text/x-python",
   "name": "python",
   "nbconvert_exporter": "python",
   "pygments_lexer": "ipython3",
   "version": "3.8.10"
  }
 },
 "nbformat": 4,
 "nbformat_minor": 5
}
